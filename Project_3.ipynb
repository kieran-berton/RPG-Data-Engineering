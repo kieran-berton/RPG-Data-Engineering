{
 "cells": [
  {
   "cell_type": "code",
   "execution_count": null,
   "metadata": {
    "collapsed": true
   },
   "outputs": [],
   "source": [
    "import json\n",
    "from pyspark.sql import Row\n",
    "from pyspark.sql.functions import udf"
   ]
  },
  {
   "cell_type": "code",
   "execution_count": null,
   "metadata": {
    "collapsed": true
   },
   "outputs": [],
   "source": [
    "@udf('string')\n",
    "def munge_event(event_as_json):\n",
    "    event = json.loads(event_as_json)\n",
    "    event['Host'] = \"moe\"\n",
    "    event['Cache-Control'] = \"no-cache\"\n",
    "    return json.dumps(event)"
   ]
  },
  {
   "cell_type": "code",
   "execution_count": null,
   "metadata": {
    "collapsed": true
   },
   "outputs": [],
   "source": [
    "raw_events = spark \\\n",
    "        .read \\\n",
    "        .format(\"kafka\") \\\n",
    "        .option(\"kafka.bootstrap.servers\", \"kafka:29092\") \\\n",
    "        .option(\"subscribe\", \"events\") \\\n",
    "        .option(\"startingOffsets\", \"earliest\") \\\n",
    "        .option(\"endingOffsets\", \"latest\") \\\n",
    "        .load()"
   ]
  },
  {
   "cell_type": "code",
   "execution_count": null,
   "metadata": {
    "collapsed": true
   },
   "outputs": [],
   "source": [
    "munged_events = raw_events \\\n",
    "        .select(raw_events.value.cast('string').alias('raw'),\n",
    "                raw_events.timestamp.cast('string')) \\\n",
    "        .withColumn('munged', munge_event('raw'))"
   ]
  },
  {
   "cell_type": "code",
   "execution_count": null,
   "metadata": {},
   "outputs": [],
   "source": [
    "munged_events.show()"
   ]
  },
  {
   "cell_type": "code",
   "execution_count": null,
   "metadata": {},
   "outputs": [],
   "source": [
    "extracted_events = munged_events \\\n",
    "        .rdd \\\n",
    "        .map(lambda r: Row(timestamp=r.timestamp, **json.loads(r.munged))) \\\n",
    "        .toDF()"
   ]
  },
  {
   "cell_type": "code",
   "execution_count": null,
   "metadata": {
    "collapsed": true
   },
   "outputs": [],
   "source": [
    "sword_purchases = extracted_events \\\n",
    "        .filter(extracted_events.event_type == 'purchase_sword')"
   ]
  },
  {
   "cell_type": "code",
   "execution_count": null,
   "metadata": {},
   "outputs": [],
   "source": [
    "sword_purchases.show()"
   ]
  },
  {
   "cell_type": "code",
   "execution_count": null,
   "metadata": {},
   "outputs": [],
   "source": [
    "default_hits = extracted_events \\\n",
    "        .filter(extracted_events.event_type == 'default')"
   ]
  },
  {
   "cell_type": "code",
   "execution_count": null,
   "metadata": {},
   "outputs": [],
   "source": [
    "default_hits.show()"
   ]
  },
  {
   "cell_type": "markdown",
   "metadata": {},
   "source": [
    "# New with Week 12"
   ]
  },
  {
   "cell_type": "code",
   "execution_count": 1,
   "metadata": {
    "collapsed": true
   },
   "outputs": [],
   "source": [
    "import json\n",
    "from pyspark.sql import Row\n",
    "from pyspark.sql.functions import udf"
   ]
  },
  {
   "cell_type": "code",
   "execution_count": 2,
   "metadata": {
    "collapsed": true
   },
   "outputs": [],
   "source": [
    "@udf('boolean')\n",
    "def is_buy_sword(event_as_json):\n",
    "    event = json.loads(event_as_json)\n",
    "    if event['event_type'] == 'buy_sword':\n",
    "        return True\n",
    "    return False"
   ]
  },
  {
   "cell_type": "code",
   "execution_count": 4,
   "metadata": {
    "collapsed": true
   },
   "outputs": [],
   "source": [
    "@udf('boolean')\n",
    "def is_join_guild(event_as_json):\n",
    "    event = json.loads(event_as_json)\n",
    "    if event['event_type'] == 'join_guild':\n",
    "        return True\n",
    "    return False"
   ]
  },
  {
   "cell_type": "code",
   "execution_count": 5,
   "metadata": {
    "collapsed": true
   },
   "outputs": [],
   "source": [
    "raw_events = spark \\\n",
    "        .read \\\n",
    "        .format(\"kafka\") \\\n",
    "        .option(\"kafka.bootstrap.servers\", \"kafka:29092\") \\\n",
    "        .option(\"subscribe\", \"events\") \\\n",
    "        .option(\"startingOffsets\", \"earliest\") \\\n",
    "        .option(\"endingOffsets\", \"latest\") \\\n",
    "        .load()"
   ]
  },
  {
   "cell_type": "code",
   "execution_count": 6,
   "metadata": {
    "scrolled": true
   },
   "outputs": [
    {
     "name": "stdout",
     "output_type": "stream",
     "text": [
      "+----+--------------------+------+---------+------+--------------------+-------------+\n",
      "| key|               value| topic|partition|offset|           timestamp|timestampType|\n",
      "+----+--------------------+------+---------+------+--------------------+-------------+\n",
      "|null|[7B 22 48 6F 73 7...|events|        0|     0|2021-04-07 23:17:...|            0|\n",
      "|null|[7B 22 48 6F 73 7...|events|        0|     1|2021-04-07 23:17:...|            0|\n",
      "|null|[7B 22 48 6F 73 7...|events|        0|     2|2021-04-07 23:17:...|            0|\n",
      "|null|[7B 22 48 6F 73 7...|events|        0|     3|2021-04-07 23:17:...|            0|\n",
      "|null|[7B 22 48 6F 73 7...|events|        0|     4|2021-04-07 23:17:...|            0|\n",
      "+----+--------------------+------+---------+------+--------------------+-------------+\n",
      "only showing top 5 rows\n",
      "\n"
     ]
    }
   ],
   "source": [
    "raw_events.show(5)"
   ]
  },
  {
   "cell_type": "markdown",
   "metadata": {},
   "source": [
    "### Join Guild Events"
   ]
  },
  {
   "cell_type": "code",
   "execution_count": 7,
   "metadata": {
    "collapsed": true
   },
   "outputs": [],
   "source": [
    "join_guild_events = raw_events \\\n",
    "        .select(raw_events.value.cast('string').alias('raw'),\n",
    "                raw_events.timestamp.cast('string')) \\\n",
    "        .filter(is_join_guild('raw'))"
   ]
  },
  {
   "cell_type": "code",
   "execution_count": 8,
   "metadata": {},
   "outputs": [
    {
     "name": "stdout",
     "output_type": "stream",
     "text": [
      "+--------------------+--------------------+\n",
      "|                 raw|           timestamp|\n",
      "+--------------------+--------------------+\n",
      "|{\"Accept\": \"*/*\",...|2021-04-07 23:17:...|\n",
      "|{\"Accept\": \"*/*\",...|2021-04-07 23:17:...|\n",
      "|{\"Accept\": \"*/*\",...|2021-04-07 23:17:...|\n",
      "|{\"Accept\": \"*/*\",...|2021-04-07 23:17:...|\n",
      "|{\"Accept\": \"*/*\",...|2021-04-07 23:17:...|\n",
      "|{\"Accept\": \"*/*\",...|2021-04-07 23:17:...|\n",
      "|{\"Accept\": \"*/*\",...|2021-04-07 23:17:...|\n",
      "|{\"Accept\": \"*/*\",...|2021-04-07 23:17:...|\n",
      "|{\"Accept\": \"*/*\",...|2021-04-07 23:17:...|\n",
      "|{\"Accept\": \"*/*\",...|2021-04-07 23:17:...|\n",
      "|{\"Accept\": \"*/*\",...|2021-04-07 23:17:...|\n",
      "|{\"Accept\": \"*/*\",...|2021-04-07 23:17:...|\n",
      "|{\"Accept\": \"*/*\",...|2021-04-07 23:17:...|\n",
      "|{\"Accept\": \"*/*\",...|2021-04-07 23:17:...|\n",
      "|{\"Accept\": \"*/*\",...|2021-04-07 23:17:...|\n",
      "|{\"Accept\": \"*/*\",...|2021-04-07 23:17:...|\n",
      "|{\"Accept\": \"*/*\",...|2021-04-07 23:17:...|\n",
      "|{\"Accept\": \"*/*\",...|2021-04-07 23:17:...|\n",
      "|{\"Accept\": \"*/*\",...|2021-04-07 23:17:...|\n",
      "|{\"Accept\": \"*/*\",...|2021-04-07 23:17:...|\n",
      "+--------------------+--------------------+\n",
      "\n"
     ]
    }
   ],
   "source": [
    "join_guild_events.show()"
   ]
  },
  {
   "cell_type": "code",
   "execution_count": 9,
   "metadata": {
    "collapsed": true
   },
   "outputs": [],
   "source": [
    "extracted_join_guild_events = join_guild_events \\\n",
    "        .rdd \\\n",
    "        .map(lambda r: Row(timestamp=r.timestamp, **json.loads(r.raw))) \\\n",
    "        .toDF()"
   ]
  },
  {
   "cell_type": "code",
   "execution_count": 10,
   "metadata": {},
   "outputs": [
    {
     "name": "stdout",
     "output_type": "stream",
     "text": [
      "+------+-----------------+---------------+----------+----------+--------------------+\n",
      "|Accept|             Host|     User-Agent|event_type|guild_type|           timestamp|\n",
      "+------+-----------------+---------------+----------+----------+--------------------+\n",
      "|   */*|user1.comcast.com|ApacheBench/2.3|join_guild|     smith|2021-04-07 23:17:...|\n",
      "|   */*|user1.comcast.com|ApacheBench/2.3|join_guild|     smith|2021-04-07 23:17:...|\n",
      "|   */*|user1.comcast.com|ApacheBench/2.3|join_guild|     smith|2021-04-07 23:17:...|\n",
      "|   */*|user1.comcast.com|ApacheBench/2.3|join_guild|     smith|2021-04-07 23:17:...|\n",
      "|   */*|user1.comcast.com|ApacheBench/2.3|join_guild|     smith|2021-04-07 23:17:...|\n",
      "+------+-----------------+---------------+----------+----------+--------------------+\n",
      "only showing top 5 rows\n",
      "\n"
     ]
    }
   ],
   "source": [
    "extracted_join_guild_events.show(5)"
   ]
  },
  {
   "cell_type": "code",
   "execution_count": 11,
   "metadata": {},
   "outputs": [],
   "source": [
    "#write to HDFS\n",
    "extracted_join_guild_events \\\n",
    "        .write \\\n",
    "        .mode('overwrite') \\\n",
    "        .parquet('/tmp/join_guild')"
   ]
  },
  {
   "cell_type": "code",
   "execution_count": 12,
   "metadata": {
    "collapsed": true
   },
   "outputs": [],
   "source": [
    "#read back in what we just wrote to HDFS\n",
    "join_guild = spark.read.parquet('/tmp/join_guild')"
   ]
  },
  {
   "cell_type": "code",
   "execution_count": 14,
   "metadata": {},
   "outputs": [
    {
     "name": "stdout",
     "output_type": "stream",
     "text": [
      "+------+-----------------+---------------+----------+----------+--------------------+\n",
      "|Accept|             Host|     User-Agent|event_type|guild_type|           timestamp|\n",
      "+------+-----------------+---------------+----------+----------+--------------------+\n",
      "|   */*|user1.comcast.com|ApacheBench/2.3|join_guild|     smith|2021-04-07 23:17:...|\n",
      "|   */*|user1.comcast.com|ApacheBench/2.3|join_guild|     smith|2021-04-07 23:17:...|\n",
      "|   */*|user1.comcast.com|ApacheBench/2.3|join_guild|     smith|2021-04-07 23:17:...|\n",
      "|   */*|user1.comcast.com|ApacheBench/2.3|join_guild|     smith|2021-04-07 23:17:...|\n",
      "|   */*|user1.comcast.com|ApacheBench/2.3|join_guild|     smith|2021-04-07 23:17:...|\n",
      "+------+-----------------+---------------+----------+----------+--------------------+\n",
      "only showing top 5 rows\n",
      "\n"
     ]
    }
   ],
   "source": [
    "join_guild.show(5)"
   ]
  },
  {
   "cell_type": "code",
   "execution_count": 15,
   "metadata": {
    "collapsed": true
   },
   "outputs": [],
   "source": [
    "join_guild.registerTempTable('join_guild')"
   ]
  },
  {
   "cell_type": "code",
   "execution_count": 16,
   "metadata": {
    "collapsed": true
   },
   "outputs": [],
   "source": [
    "join_guild_spark_df = spark.sql(\"select * from join_guild where Host = 'user1.comcast.com'\")"
   ]
  },
  {
   "cell_type": "code",
   "execution_count": 17,
   "metadata": {},
   "outputs": [
    {
     "name": "stdout",
     "output_type": "stream",
     "text": [
      "+------+-----------------+---------------+----------+----------+--------------------+\n",
      "|Accept|             Host|     User-Agent|event_type|guild_type|           timestamp|\n",
      "+------+-----------------+---------------+----------+----------+--------------------+\n",
      "|   */*|user1.comcast.com|ApacheBench/2.3|join_guild|     smith|2021-04-07 23:17:...|\n",
      "|   */*|user1.comcast.com|ApacheBench/2.3|join_guild|     smith|2021-04-07 23:17:...|\n",
      "|   */*|user1.comcast.com|ApacheBench/2.3|join_guild|     smith|2021-04-07 23:17:...|\n",
      "|   */*|user1.comcast.com|ApacheBench/2.3|join_guild|     smith|2021-04-07 23:17:...|\n",
      "|   */*|user1.comcast.com|ApacheBench/2.3|join_guild|     smith|2021-04-07 23:17:...|\n",
      "|   */*|user1.comcast.com|ApacheBench/2.3|join_guild|     smith|2021-04-07 23:17:...|\n",
      "|   */*|user1.comcast.com|ApacheBench/2.3|join_guild|     smith|2021-04-07 23:17:...|\n",
      "|   */*|user1.comcast.com|ApacheBench/2.3|join_guild|     smith|2021-04-07 23:17:...|\n",
      "|   */*|user1.comcast.com|ApacheBench/2.3|join_guild|     smith|2021-04-07 23:17:...|\n",
      "|   */*|user1.comcast.com|ApacheBench/2.3|join_guild|     smith|2021-04-07 23:17:...|\n",
      "+------+-----------------+---------------+----------+----------+--------------------+\n",
      "\n"
     ]
    }
   ],
   "source": [
    "join_guild_spark_df.show()"
   ]
  },
  {
   "cell_type": "code",
   "execution_count": 18,
   "metadata": {},
   "outputs": [
    {
     "data": {
      "text/html": [
       "<div>\n",
       "<style>\n",
       "    .dataframe thead tr:only-child th {\n",
       "        text-align: right;\n",
       "    }\n",
       "\n",
       "    .dataframe thead th {\n",
       "        text-align: left;\n",
       "    }\n",
       "\n",
       "    .dataframe tbody tr th {\n",
       "        vertical-align: top;\n",
       "    }\n",
       "</style>\n",
       "<table border=\"1\" class=\"dataframe\">\n",
       "  <thead>\n",
       "    <tr style=\"text-align: right;\">\n",
       "      <th></th>\n",
       "      <th>Accept</th>\n",
       "      <th>Host</th>\n",
       "      <th>User-Agent</th>\n",
       "      <th>event_type</th>\n",
       "      <th>guild_type</th>\n",
       "      <th>timestamp</th>\n",
       "    </tr>\n",
       "  </thead>\n",
       "  <tbody>\n",
       "    <tr>\n",
       "      <th>0</th>\n",
       "      <td>*/*</td>\n",
       "      <td>user1.comcast.com</td>\n",
       "      <td>ApacheBench/2.3</td>\n",
       "      <td>join_guild</td>\n",
       "      <td>smith</td>\n",
       "      <td>2021-04-07 23:17:35.622</td>\n",
       "    </tr>\n",
       "    <tr>\n",
       "      <th>1</th>\n",
       "      <td>*/*</td>\n",
       "      <td>user1.comcast.com</td>\n",
       "      <td>ApacheBench/2.3</td>\n",
       "      <td>join_guild</td>\n",
       "      <td>smith</td>\n",
       "      <td>2021-04-07 23:17:35.626</td>\n",
       "    </tr>\n",
       "    <tr>\n",
       "      <th>2</th>\n",
       "      <td>*/*</td>\n",
       "      <td>user1.comcast.com</td>\n",
       "      <td>ApacheBench/2.3</td>\n",
       "      <td>join_guild</td>\n",
       "      <td>smith</td>\n",
       "      <td>2021-04-07 23:17:35.63</td>\n",
       "    </tr>\n",
       "    <tr>\n",
       "      <th>3</th>\n",
       "      <td>*/*</td>\n",
       "      <td>user1.comcast.com</td>\n",
       "      <td>ApacheBench/2.3</td>\n",
       "      <td>join_guild</td>\n",
       "      <td>smith</td>\n",
       "      <td>2021-04-07 23:17:35.634</td>\n",
       "    </tr>\n",
       "    <tr>\n",
       "      <th>4</th>\n",
       "      <td>*/*</td>\n",
       "      <td>user1.comcast.com</td>\n",
       "      <td>ApacheBench/2.3</td>\n",
       "      <td>join_guild</td>\n",
       "      <td>smith</td>\n",
       "      <td>2021-04-07 23:17:35.64</td>\n",
       "    </tr>\n",
       "  </tbody>\n",
       "</table>\n",
       "</div>"
      ],
      "text/plain": [
       "  Accept               Host       User-Agent  event_type guild_type  \\\n",
       "0    */*  user1.comcast.com  ApacheBench/2.3  join_guild      smith   \n",
       "1    */*  user1.comcast.com  ApacheBench/2.3  join_guild      smith   \n",
       "2    */*  user1.comcast.com  ApacheBench/2.3  join_guild      smith   \n",
       "3    */*  user1.comcast.com  ApacheBench/2.3  join_guild      smith   \n",
       "4    */*  user1.comcast.com  ApacheBench/2.3  join_guild      smith   \n",
       "\n",
       "                 timestamp  \n",
       "0  2021-04-07 23:17:35.622  \n",
       "1  2021-04-07 23:17:35.626  \n",
       "2   2021-04-07 23:17:35.63  \n",
       "3  2021-04-07 23:17:35.634  \n",
       "4   2021-04-07 23:17:35.64  "
      ]
     },
     "execution_count": 18,
     "metadata": {},
     "output_type": "execute_result"
    }
   ],
   "source": [
    "join_guild_df = join_guild_spark_df.toPandas()\n",
    "join_guild_df.head()"
   ]
  },
  {
   "cell_type": "code",
   "execution_count": 19,
   "metadata": {},
   "outputs": [
    {
     "data": {
      "text/html": [
       "<div>\n",
       "<style>\n",
       "    .dataframe thead tr:only-child th {\n",
       "        text-align: right;\n",
       "    }\n",
       "\n",
       "    .dataframe thead th {\n",
       "        text-align: left;\n",
       "    }\n",
       "\n",
       "    .dataframe tbody tr th {\n",
       "        vertical-align: top;\n",
       "    }\n",
       "</style>\n",
       "<table border=\"1\" class=\"dataframe\">\n",
       "  <thead>\n",
       "    <tr style=\"text-align: right;\">\n",
       "      <th></th>\n",
       "      <th>Accept</th>\n",
       "      <th>Host</th>\n",
       "      <th>User-Agent</th>\n",
       "      <th>event_type</th>\n",
       "      <th>guild_type</th>\n",
       "      <th>timestamp</th>\n",
       "    </tr>\n",
       "  </thead>\n",
       "  <tbody>\n",
       "    <tr>\n",
       "      <th>count</th>\n",
       "      <td>10</td>\n",
       "      <td>10</td>\n",
       "      <td>10</td>\n",
       "      <td>10</td>\n",
       "      <td>10</td>\n",
       "      <td>10</td>\n",
       "    </tr>\n",
       "    <tr>\n",
       "      <th>unique</th>\n",
       "      <td>1</td>\n",
       "      <td>1</td>\n",
       "      <td>1</td>\n",
       "      <td>1</td>\n",
       "      <td>1</td>\n",
       "      <td>10</td>\n",
       "    </tr>\n",
       "    <tr>\n",
       "      <th>top</th>\n",
       "      <td>*/*</td>\n",
       "      <td>user1.comcast.com</td>\n",
       "      <td>ApacheBench/2.3</td>\n",
       "      <td>join_guild</td>\n",
       "      <td>smith</td>\n",
       "      <td>2021-04-07 23:17:35.626</td>\n",
       "    </tr>\n",
       "    <tr>\n",
       "      <th>freq</th>\n",
       "      <td>10</td>\n",
       "      <td>10</td>\n",
       "      <td>10</td>\n",
       "      <td>10</td>\n",
       "      <td>10</td>\n",
       "      <td>1</td>\n",
       "    </tr>\n",
       "  </tbody>\n",
       "</table>\n",
       "</div>"
      ],
      "text/plain": [
       "       Accept               Host       User-Agent  event_type guild_type  \\\n",
       "count      10                 10               10          10         10   \n",
       "unique      1                  1                1           1          1   \n",
       "top       */*  user1.comcast.com  ApacheBench/2.3  join_guild      smith   \n",
       "freq       10                 10               10          10         10   \n",
       "\n",
       "                      timestamp  \n",
       "count                        10  \n",
       "unique                       10  \n",
       "top     2021-04-07 23:17:35.626  \n",
       "freq                          1  "
      ]
     },
     "execution_count": 19,
     "metadata": {},
     "output_type": "execute_result"
    }
   ],
   "source": [
    "join_guild_df.describe()"
   ]
  },
  {
   "cell_type": "markdown",
   "metadata": {},
   "source": [
    "### Buy Sword "
   ]
  },
  {
   "cell_type": "code",
   "execution_count": 21,
   "metadata": {
    "collapsed": true
   },
   "outputs": [],
   "source": [
    "buy_sword_events = raw_events \\\n",
    "        .select(raw_events.value.cast('string').alias('raw'),\n",
    "                raw_events.timestamp.cast('string')) \\\n",
    "        .filter(is_buy_sword('raw'))"
   ]
  },
  {
   "cell_type": "code",
   "execution_count": 23,
   "metadata": {},
   "outputs": [
    {
     "name": "stdout",
     "output_type": "stream",
     "text": [
      "+--------------------+--------------------+\n",
      "|                 raw|           timestamp|\n",
      "+--------------------+--------------------+\n",
      "|{\"Host\": \"user1.c...|2021-04-07 23:17:...|\n",
      "|{\"Host\": \"user1.c...|2021-04-07 23:17:...|\n",
      "|{\"Host\": \"user1.c...|2021-04-07 23:17:...|\n",
      "|{\"Host\": \"user1.c...|2021-04-07 23:17:...|\n",
      "|{\"Host\": \"user1.c...|2021-04-07 23:17:...|\n",
      "+--------------------+--------------------+\n",
      "only showing top 5 rows\n",
      "\n"
     ]
    }
   ],
   "source": [
    "buy_sword_events.show(5)"
   ]
  },
  {
   "cell_type": "code",
   "execution_count": 24,
   "metadata": {
    "collapsed": true
   },
   "outputs": [],
   "source": [
    "extracted_buy_sword_events = buy_sword_events \\\n",
    "        .rdd \\\n",
    "        .map(lambda r: Row(timestamp=r.timestamp, **json.loads(r.raw))) \\\n",
    "        .toDF()"
   ]
  },
  {
   "cell_type": "code",
   "execution_count": 25,
   "metadata": {},
   "outputs": [
    {
     "name": "stdout",
     "output_type": "stream",
     "text": [
      "+------+-----------------+---------------+----------+----------+--------------------+\n",
      "|Accept|             Host|     User-Agent|event_type|sword_type|           timestamp|\n",
      "+------+-----------------+---------------+----------+----------+--------------------+\n",
      "|   */*|user1.comcast.com|ApacheBench/2.3| buy_sword|     short|2021-04-07 23:17:...|\n",
      "|   */*|user1.comcast.com|ApacheBench/2.3| buy_sword|     short|2021-04-07 23:17:...|\n",
      "|   */*|user1.comcast.com|ApacheBench/2.3| buy_sword|     short|2021-04-07 23:17:...|\n",
      "|   */*|user1.comcast.com|ApacheBench/2.3| buy_sword|     short|2021-04-07 23:17:...|\n",
      "|   */*|user1.comcast.com|ApacheBench/2.3| buy_sword|     short|2021-04-07 23:17:...|\n",
      "+------+-----------------+---------------+----------+----------+--------------------+\n",
      "only showing top 5 rows\n",
      "\n"
     ]
    }
   ],
   "source": [
    "extracted_buy_sword_events.show(5)"
   ]
  },
  {
   "cell_type": "code",
   "execution_count": 26,
   "metadata": {
    "collapsed": true
   },
   "outputs": [],
   "source": [
    "#write to HDFS\n",
    "extracted_buy_sword_events \\\n",
    "        .write \\\n",
    "        .mode('overwrite') \\\n",
    "        .parquet('/tmp/buy_sword')"
   ]
  },
  {
   "cell_type": "code",
   "execution_count": 27,
   "metadata": {
    "collapsed": true
   },
   "outputs": [],
   "source": [
    "#read back in what we just wrote to HDFS\n",
    "buy_sword = spark.read.parquet('/tmp/buy_sword')"
   ]
  },
  {
   "cell_type": "code",
   "execution_count": 29,
   "metadata": {},
   "outputs": [
    {
     "name": "stdout",
     "output_type": "stream",
     "text": [
      "+------+-----------------+---------------+----------+----------+--------------------+\n",
      "|Accept|             Host|     User-Agent|event_type|sword_type|           timestamp|\n",
      "+------+-----------------+---------------+----------+----------+--------------------+\n",
      "|   */*|user1.comcast.com|ApacheBench/2.3| buy_sword|     short|2021-04-07 23:17:...|\n",
      "|   */*|user1.comcast.com|ApacheBench/2.3| buy_sword|     short|2021-04-07 23:17:...|\n",
      "|   */*|user1.comcast.com|ApacheBench/2.3| buy_sword|     short|2021-04-07 23:17:...|\n",
      "|   */*|user1.comcast.com|ApacheBench/2.3| buy_sword|     short|2021-04-07 23:17:...|\n",
      "|   */*|user1.comcast.com|ApacheBench/2.3| buy_sword|     short|2021-04-07 23:17:...|\n",
      "+------+-----------------+---------------+----------+----------+--------------------+\n",
      "only showing top 5 rows\n",
      "\n"
     ]
    }
   ],
   "source": [
    "buy_sword.show(5)"
   ]
  },
  {
   "cell_type": "code",
   "execution_count": 30,
   "metadata": {
    "collapsed": true
   },
   "outputs": [],
   "source": [
    "buy_sword.registerTempTable('buy_sword')"
   ]
  },
  {
   "cell_type": "code",
   "execution_count": 31,
   "metadata": {
    "collapsed": true
   },
   "outputs": [],
   "source": [
    "buy_sword_spark_df = spark.sql(\"select * from buy_sword where Host = 'user1.comcast.com'\")"
   ]
  },
  {
   "cell_type": "code",
   "execution_count": 33,
   "metadata": {},
   "outputs": [
    {
     "name": "stdout",
     "output_type": "stream",
     "text": [
      "+------+-----------------+---------------+----------+----------+--------------------+\n",
      "|Accept|             Host|     User-Agent|event_type|sword_type|           timestamp|\n",
      "+------+-----------------+---------------+----------+----------+--------------------+\n",
      "|   */*|user1.comcast.com|ApacheBench/2.3| buy_sword|     short|2021-04-07 23:17:...|\n",
      "|   */*|user1.comcast.com|ApacheBench/2.3| buy_sword|     short|2021-04-07 23:17:...|\n",
      "|   */*|user1.comcast.com|ApacheBench/2.3| buy_sword|     short|2021-04-07 23:17:...|\n",
      "|   */*|user1.comcast.com|ApacheBench/2.3| buy_sword|     short|2021-04-07 23:17:...|\n",
      "|   */*|user1.comcast.com|ApacheBench/2.3| buy_sword|     short|2021-04-07 23:17:...|\n",
      "+------+-----------------+---------------+----------+----------+--------------------+\n",
      "only showing top 5 rows\n",
      "\n"
     ]
    }
   ],
   "source": [
    "buy_sword_spark_df.show(5)"
   ]
  },
  {
   "cell_type": "code",
   "execution_count": 34,
   "metadata": {},
   "outputs": [
    {
     "data": {
      "text/html": [
       "<div>\n",
       "<style>\n",
       "    .dataframe thead tr:only-child th {\n",
       "        text-align: right;\n",
       "    }\n",
       "\n",
       "    .dataframe thead th {\n",
       "        text-align: left;\n",
       "    }\n",
       "\n",
       "    .dataframe tbody tr th {\n",
       "        vertical-align: top;\n",
       "    }\n",
       "</style>\n",
       "<table border=\"1\" class=\"dataframe\">\n",
       "  <thead>\n",
       "    <tr style=\"text-align: right;\">\n",
       "      <th></th>\n",
       "      <th>Accept</th>\n",
       "      <th>Host</th>\n",
       "      <th>User-Agent</th>\n",
       "      <th>event_type</th>\n",
       "      <th>sword_type</th>\n",
       "      <th>timestamp</th>\n",
       "    </tr>\n",
       "  </thead>\n",
       "  <tbody>\n",
       "    <tr>\n",
       "      <th>0</th>\n",
       "      <td>*/*</td>\n",
       "      <td>user1.comcast.com</td>\n",
       "      <td>ApacheBench/2.3</td>\n",
       "      <td>buy_sword</td>\n",
       "      <td>short</td>\n",
       "      <td>2021-04-07 23:17:29.199</td>\n",
       "    </tr>\n",
       "    <tr>\n",
       "      <th>1</th>\n",
       "      <td>*/*</td>\n",
       "      <td>user1.comcast.com</td>\n",
       "      <td>ApacheBench/2.3</td>\n",
       "      <td>buy_sword</td>\n",
       "      <td>short</td>\n",
       "      <td>2021-04-07 23:17:29.203</td>\n",
       "    </tr>\n",
       "    <tr>\n",
       "      <th>2</th>\n",
       "      <td>*/*</td>\n",
       "      <td>user1.comcast.com</td>\n",
       "      <td>ApacheBench/2.3</td>\n",
       "      <td>buy_sword</td>\n",
       "      <td>short</td>\n",
       "      <td>2021-04-07 23:17:29.21</td>\n",
       "    </tr>\n",
       "    <tr>\n",
       "      <th>3</th>\n",
       "      <td>*/*</td>\n",
       "      <td>user1.comcast.com</td>\n",
       "      <td>ApacheBench/2.3</td>\n",
       "      <td>buy_sword</td>\n",
       "      <td>short</td>\n",
       "      <td>2021-04-07 23:17:29.214</td>\n",
       "    </tr>\n",
       "    <tr>\n",
       "      <th>4</th>\n",
       "      <td>*/*</td>\n",
       "      <td>user1.comcast.com</td>\n",
       "      <td>ApacheBench/2.3</td>\n",
       "      <td>buy_sword</td>\n",
       "      <td>short</td>\n",
       "      <td>2021-04-07 23:17:29.218</td>\n",
       "    </tr>\n",
       "  </tbody>\n",
       "</table>\n",
       "</div>"
      ],
      "text/plain": [
       "  Accept               Host       User-Agent event_type sword_type  \\\n",
       "0    */*  user1.comcast.com  ApacheBench/2.3  buy_sword      short   \n",
       "1    */*  user1.comcast.com  ApacheBench/2.3  buy_sword      short   \n",
       "2    */*  user1.comcast.com  ApacheBench/2.3  buy_sword      short   \n",
       "3    */*  user1.comcast.com  ApacheBench/2.3  buy_sword      short   \n",
       "4    */*  user1.comcast.com  ApacheBench/2.3  buy_sword      short   \n",
       "\n",
       "                 timestamp  \n",
       "0  2021-04-07 23:17:29.199  \n",
       "1  2021-04-07 23:17:29.203  \n",
       "2   2021-04-07 23:17:29.21  \n",
       "3  2021-04-07 23:17:29.214  \n",
       "4  2021-04-07 23:17:29.218  "
      ]
     },
     "execution_count": 34,
     "metadata": {},
     "output_type": "execute_result"
    }
   ],
   "source": [
    "buy_sword_df = buy_sword_spark_df.toPandas()\n",
    "buy_sword_df.head()"
   ]
  },
  {
   "cell_type": "code",
   "execution_count": 35,
   "metadata": {},
   "outputs": [
    {
     "data": {
      "text/html": [
       "<div>\n",
       "<style>\n",
       "    .dataframe thead tr:only-child th {\n",
       "        text-align: right;\n",
       "    }\n",
       "\n",
       "    .dataframe thead th {\n",
       "        text-align: left;\n",
       "    }\n",
       "\n",
       "    .dataframe tbody tr th {\n",
       "        vertical-align: top;\n",
       "    }\n",
       "</style>\n",
       "<table border=\"1\" class=\"dataframe\">\n",
       "  <thead>\n",
       "    <tr style=\"text-align: right;\">\n",
       "      <th></th>\n",
       "      <th>Accept</th>\n",
       "      <th>Host</th>\n",
       "      <th>User-Agent</th>\n",
       "      <th>event_type</th>\n",
       "      <th>sword_type</th>\n",
       "      <th>timestamp</th>\n",
       "    </tr>\n",
       "  </thead>\n",
       "  <tbody>\n",
       "    <tr>\n",
       "      <th>count</th>\n",
       "      <td>10</td>\n",
       "      <td>10</td>\n",
       "      <td>10</td>\n",
       "      <td>10</td>\n",
       "      <td>10</td>\n",
       "      <td>10</td>\n",
       "    </tr>\n",
       "    <tr>\n",
       "      <th>unique</th>\n",
       "      <td>1</td>\n",
       "      <td>1</td>\n",
       "      <td>1</td>\n",
       "      <td>1</td>\n",
       "      <td>1</td>\n",
       "      <td>10</td>\n",
       "    </tr>\n",
       "    <tr>\n",
       "      <th>top</th>\n",
       "      <td>*/*</td>\n",
       "      <td>user1.comcast.com</td>\n",
       "      <td>ApacheBench/2.3</td>\n",
       "      <td>buy_sword</td>\n",
       "      <td>short</td>\n",
       "      <td>2021-04-07 23:17:29.21</td>\n",
       "    </tr>\n",
       "    <tr>\n",
       "      <th>freq</th>\n",
       "      <td>10</td>\n",
       "      <td>10</td>\n",
       "      <td>10</td>\n",
       "      <td>10</td>\n",
       "      <td>10</td>\n",
       "      <td>1</td>\n",
       "    </tr>\n",
       "  </tbody>\n",
       "</table>\n",
       "</div>"
      ],
      "text/plain": [
       "       Accept               Host       User-Agent event_type sword_type  \\\n",
       "count      10                 10               10         10         10   \n",
       "unique      1                  1                1          1          1   \n",
       "top       */*  user1.comcast.com  ApacheBench/2.3  buy_sword      short   \n",
       "freq       10                 10               10         10         10   \n",
       "\n",
       "                     timestamp  \n",
       "count                       10  \n",
       "unique                      10  \n",
       "top     2021-04-07 23:17:29.21  \n",
       "freq                         1  "
      ]
     },
     "execution_count": 35,
     "metadata": {},
     "output_type": "execute_result"
    }
   ],
   "source": [
    "buy_sword_df.describe()"
   ]
  },
  {
   "cell_type": "markdown",
   "metadata": {},
   "source": [
    "# New in Week 13"
   ]
  },
  {
   "cell_type": "code",
   "execution_count": null,
   "metadata": {
    "collapsed": true
   },
   "outputs": [],
   "source": []
  },
  {
   "cell_type": "markdown",
   "metadata": {},
   "source": [
    "# Simply Analytics"
   ]
  },
  {
   "cell_type": "code",
   "execution_count": null,
   "metadata": {
    "collapsed": true
   },
   "outputs": [],
   "source": []
  }
 ],
 "metadata": {
  "kernelspec": {
   "display_name": "Python 3",
   "language": "python",
   "name": "python3"
  },
  "language_info": {
   "codemirror_mode": {
    "name": "ipython",
    "version": 3
   },
   "file_extension": ".py",
   "mimetype": "text/x-python",
   "name": "python",
   "nbconvert_exporter": "python",
   "pygments_lexer": "ipython3",
   "version": "3.6.1"
  }
 },
 "nbformat": 4,
 "nbformat_minor": 2
}
